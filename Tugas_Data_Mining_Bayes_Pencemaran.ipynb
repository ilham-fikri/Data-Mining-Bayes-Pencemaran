{
  "nbformat": 4,
  "nbformat_minor": 0,
  "metadata": {
    "colab": {
      "name": "Tugas Data Mining Bayes Pencemaran.ipynb",
      "provenance": [],
      "authorship_tag": "ABX9TyMFuY8aud1n5ySmlGGrheQB",
      "include_colab_link": true
    },
    "kernelspec": {
      "name": "python3",
      "display_name": "Python 3"
    },
    "language_info": {
      "name": "python"
    }
  },
  "cells": [
    {
      "cell_type": "markdown",
      "metadata": {
        "id": "view-in-github",
        "colab_type": "text"
      },
      "source": [
        "<a href=\"https://colab.research.google.com/github/ilham-fikri/Data-Mining-Bayes-Pencemaran/blob/main/Tugas_Data_Mining_Bayes_Pencemaran.ipynb\" target=\"_parent\"><img src=\"https://colab.research.google.com/assets/colab-badge.svg\" alt=\"Open In Colab\"/></a>"
      ]
    },
    {
      "cell_type": "code",
      "metadata": {
        "id": "TjqHibWRzNsI"
      },
      "source": [
        "import numpy as np\n",
        "import matplotlib.pyplot as plt\n",
        "import pandas as pd"
      ],
      "execution_count": 13,
      "outputs": []
    },
    {
      "cell_type": "code",
      "metadata": {
        "id": "G_TV1bg_zf5o"
      },
      "source": [
        "dataset = pd.read_csv(\"pencemaran.csv\")\n",
        "x = dataset.iloc[:,[2,3]].values\n",
        "y = dataset.iloc[:, -1].values"
      ],
      "execution_count": 14,
      "outputs": []
    },
    {
      "cell_type": "code",
      "metadata": {
        "colab": {
          "base_uri": "https://localhost:8080/"
        },
        "id": "4zDlI1nezmVK",
        "outputId": "c1730d08-c8c4-478c-f493-4632dca7c8be"
      },
      "source": [
        "print(x)"
      ],
      "execution_count": 15,
      "outputs": [
        {
          "output_type": "stream",
          "text": [
            "[[30 31]\n",
            " [28 43]\n",
            " [16 43]\n",
            " [29 51]\n",
            " [40 49]\n",
            " [22 46]\n",
            " [19 58]\n",
            " [36 98]\n",
            " [20 36]\n",
            " [14 37]\n",
            " [19 45]\n",
            " [28 45]\n",
            " [27 39]\n",
            " [13 32]\n",
            " [27 48]\n",
            " [31 43]\n",
            " [20 50]\n",
            " [19 45]\n",
            " [23 41]\n",
            " [19 39]\n",
            " [25 56]\n",
            " [21 40]\n",
            " [23 81]\n",
            " [30 46]\n",
            " [24 44]\n",
            " [19 25]\n",
            " [27 30]\n",
            " [23 58]\n",
            " [23 35]\n",
            " [37 35]\n",
            " [18 32]]\n"
          ],
          "name": "stdout"
        }
      ]
    },
    {
      "cell_type": "code",
      "metadata": {
        "colab": {
          "base_uri": "https://localhost:8080/"
        },
        "id": "rqdH1Tut5Lez",
        "outputId": "ddb67e84-a700-4ba6-8d36-79c644dc67f0"
      },
      "source": [
        "print(y)"
      ],
      "execution_count": 16,
      "outputs": [
        {
          "output_type": "stream",
          "text": [
            "[1 1 0 1 1 0 0 1 0 0 1 0 1 1 1 1 0 1 1 1 0 0 0 1 1 1 1 1 1 1 1]\n"
          ],
          "name": "stdout"
        }
      ]
    },
    {
      "cell_type": "code",
      "metadata": {
        "id": "RTz5eprA5UV7"
      },
      "source": [
        "from sklearn.model_selection import train_test_split\n",
        "x_train, x_test, y_train, y_test = train_test_split(x,y,test_size=0.25, random_state=0)"
      ],
      "execution_count": 17,
      "outputs": []
    },
    {
      "cell_type": "code",
      "metadata": {
        "colab": {
          "base_uri": "https://localhost:8080/"
        },
        "id": "sWS1HKR1_WKG",
        "outputId": "98344d63-cbc0-4165-b1e6-7f99f8ca6e8c"
      },
      "source": [
        "print(x_train)"
      ],
      "execution_count": 24,
      "outputs": [
        {
          "output_type": "stream",
          "text": [
            "[[-0.97672345 -0.00647836]\n",
            " [ 0.85372864  0.06802282]\n",
            " [-0.47750924  0.06802282]\n",
            " [-0.81031871  0.36602754]\n",
            " [-0.81031871 -0.67698899]\n",
            " [ 0.35451444  0.21702518]\n",
            " [-0.14469977 -0.08097954]\n",
            " [ 0.02170497  0.81303463]\n",
            " [ 0.52091917 -0.15548073]\n",
            " [-1.14312818 -0.97499372]\n",
            " [-0.97672345  0.96203699]\n",
            " [ 2.517776    0.29152636]\n",
            " [-0.31110451 -0.30448309]\n",
            " [-0.31110451 -0.75149017]\n",
            " [-0.97672345 -0.45348545]\n",
            " [-1.80874713 -0.60248781]\n",
            " [ 1.85215706  3.94208424]\n",
            " [ 0.35451444 -1.12399608]\n",
            " [ 0.68732391  0.44052872]\n",
            " [ 0.85372864 -1.0494949 ]\n",
            " [-0.64391398 -0.37898427]\n",
            " [ 1.02013338 -0.15548073]\n",
            " [ 0.35451444 -0.45348545]]\n"
          ],
          "name": "stdout"
        }
      ]
    },
    {
      "cell_type": "code",
      "metadata": {
        "colab": {
          "base_uri": "https://localhost:8080/"
        },
        "id": "NjCDi3ra_ats",
        "outputId": "e7032a5e-798a-44cf-a3db-9995adafd418"
      },
      "source": [
        "print(x_test)"
      ],
      "execution_count": 25,
      "outputs": [
        {
          "output_type": "stream",
          "text": [
            "[[-1.47593765 -0.15548073]\n",
            " [ 2.01856179 -0.75149017]\n",
            " [-1.97515186 -0.97499372]\n",
            " [-0.97672345 -0.00647836]\n",
            " [-0.31110451  0.96203699]\n",
            " [-0.97672345 -1.49650199]\n",
            " [-0.31110451  2.67556416]\n",
            " [ 0.52091917 -0.00647836]]\n"
          ],
          "name": "stdout"
        }
      ]
    },
    {
      "cell_type": "code",
      "metadata": {
        "colab": {
          "base_uri": "https://localhost:8080/"
        },
        "id": "LxDAzN6V_fEB",
        "outputId": "fd04d982-8f5f-4c3d-e03f-05582eeffa06"
      },
      "source": [
        "print(y_train)"
      ],
      "execution_count": 26,
      "outputs": [
        {
          "output_type": "stream",
          "text": [
            "[1 1 0 0 0 1 1 0 1 1 0 1 1 1 1 0 1 1 1 1 0 1 1]\n"
          ],
          "name": "stdout"
        }
      ]
    },
    {
      "cell_type": "code",
      "metadata": {
        "colab": {
          "base_uri": "https://localhost:8080/"
        },
        "id": "XdMkGp6M_iHd",
        "outputId": "fc19bca7-b541-432f-80e8-40a55d0b16f8"
      },
      "source": [
        "print(y_test)"
      ],
      "execution_count": 27,
      "outputs": [
        {
          "output_type": "stream",
          "text": [
            "[0 1 1 1 1 1 0 0]\n"
          ],
          "name": "stdout"
        }
      ]
    },
    {
      "cell_type": "code",
      "metadata": {
        "id": "P4yfLajs5WUo"
      },
      "source": [
        "from sklearn.preprocessing import StandardScaler\n",
        "sc = StandardScaler()\n",
        "x_train = sc.fit_transform(x_train)\n",
        "x_test = sc.transform(x_test)"
      ],
      "execution_count": 18,
      "outputs": []
    },
    {
      "cell_type": "code",
      "metadata": {
        "colab": {
          "base_uri": "https://localhost:8080/"
        },
        "id": "WL30CPBs5Zmx",
        "outputId": "1ae1a325-d94d-4c3d-fdc5-b860af63e5cd"
      },
      "source": [
        "from sklearn.naive_bayes import GaussianNB\n",
        "classifier = GaussianNB()\n",
        "classifier.fit(x_train, y_train)"
      ],
      "execution_count": 19,
      "outputs": [
        {
          "output_type": "execute_result",
          "data": {
            "text/plain": [
              "GaussianNB(priors=None, var_smoothing=1e-09)"
            ]
          },
          "metadata": {
            "tags": []
          },
          "execution_count": 19
        }
      ]
    },
    {
      "cell_type": "code",
      "metadata": {
        "id": "bv1Kipk-5d20"
      },
      "source": [
        "y_pred = classifier.predict(x_test)"
      ],
      "execution_count": 20,
      "outputs": []
    },
    {
      "cell_type": "code",
      "metadata": {
        "colab": {
          "base_uri": "https://localhost:8080/"
        },
        "id": "d1MCwd8p_qdU",
        "outputId": "8c6a84c5-0d6e-4223-cc2d-3db8a51fd68d"
      },
      "source": [
        "y_pred"
      ],
      "execution_count": 28,
      "outputs": [
        {
          "output_type": "execute_result",
          "data": {
            "text/plain": [
              "array([0, 1, 1, 0, 1, 1, 1, 1])"
            ]
          },
          "metadata": {
            "tags": []
          },
          "execution_count": 28
        }
      ]
    },
    {
      "cell_type": "code",
      "metadata": {
        "colab": {
          "base_uri": "https://localhost:8080/"
        },
        "id": "QCm_cs9W5jzu",
        "outputId": "3397b0d6-fb39-4488-d9ed-10018b2a58e9"
      },
      "source": [
        "from sklearn.metrics import confusion_matrix\n",
        "cm = confusion_matrix(y_test, y_pred)\n",
        "print(cm)"
      ],
      "execution_count": 21,
      "outputs": [
        {
          "output_type": "stream",
          "text": [
            "[[1 2]\n",
            " [1 4]]\n"
          ],
          "name": "stdout"
        }
      ]
    },
    {
      "cell_type": "code",
      "metadata": {
        "colab": {
          "base_uri": "https://localhost:8080/",
          "height": 627
        },
        "id": "_KBwomGm5od8",
        "outputId": "0c656cbf-6f18-434b-c315-bfd595d9cb87"
      },
      "source": [
        "from matplotlib.colors import ListedColormap\n",
        "x_set, y_set = x_train, y_train\n",
        "x1, x2 = np.meshgrid(np.arange(start = x_set[:,0].min()-1, stop = x_set[:,0].max()+1, step= 0.01),\n",
        "np.arange(start = x_set[:,1].min()-1, stop = x_set[:,0].max()+1, step= 0.01))\n",
        "\n",
        "plt.contourf(x1, x2, classifier.predict(np.array([x1.ravel(), x2.ravel()]).T).reshape(x1.shape),\n",
        "                                        alpha= 0.75, cmap = ListedColormap(('red','green')))\n",
        "plt.xlim(x1.min(), x1.max())\n",
        "plt.xlim(x2.min(), x2.max())\n",
        "for i, j in enumerate(np.unique(y_set)):\n",
        "  plt.scatter(x_set[y_set ==j,0],x_set[y_set == j, 1],\n",
        "              c = ListedColormap(('red','green'))(i), label = j)\n",
        "  plt.title('Pencemaran gas CO2 dan CO')\n",
        "  plt.xlabel('Gas CO2')\n",
        "  plt.ylabel('Gas CO')\n",
        "  plt.legend()\n",
        "  plt.show() "
      ],
      "execution_count": 23,
      "outputs": [
        {
          "output_type": "stream",
          "text": [
            "*c* argument looks like a single numeric RGB or RGBA sequence, which should be avoided as value-mapping will have precedence in case its length matches with *x* & *y*.  Please use the *color* keyword-argument or provide a 2-D array with a single row if you intend to specify the same RGB or RGBA value for all points.\n"
          ],
          "name": "stderr"
        },
        {
          "output_type": "display_data",
          "data": {
            "image/png": "[encoded data removed]",
            "text/plain": [
              "<Figure size 432x288 with 1 Axes>"
            ]
          },
          "metadata": {
            "tags": [],
            "needs_background": "light"
          }
        },
        {
          "output_type": "stream",
          "text": [
            "*c* argument looks like a single numeric RGB or RGBA sequence, which should be avoided as value-mapping will have precedence in case its length matches with *x* & *y*.  Please use the *color* keyword-argument or provide a 2-D array with a single row if you intend to specify the same RGB or RGBA value for all points.\n"
          ],
          "name": "stderr"
        },
        {
          "output_type": "display_data",
          "data": {
            "image/png": "[encoded data removed]",
            "text/plain": [
              "<Figure size 432x288 with 1 Axes>"
            ]
          },
          "metadata": {
            "tags": [],
            "needs_background": "light"
          }
        }
      ]
    }
  ]
}